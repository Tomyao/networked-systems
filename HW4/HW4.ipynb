{
 "cells": [
  {
   "cell_type": "code",
   "execution_count": 1,
   "metadata": {
    "collapsed": true
   },
   "outputs": [],
   "source": [
    "import random\n",
    "\n",
    "def run_experiment(nodes, mean, std):\n",
    "    myvalues = [0]*nodes\n",
    "    for i in range(nodes):\n",
    "        myvalues[i] = random.gauss(mean,std)\n",
    "    myvalues.sort()\n",
    "    print (\"Scenario 1: \" + str(sum(myvalues)/(nodes + 0.0)))\n",
    "    print (\"Scenario 2: \"+ str(myvalues[nodes - 1]))\n",
    "    print (\"Scenario 3: \" + str(myvalues[int(nodes*0.9)-1]))"
   ]
  },
  {
   "cell_type": "code",
   "execution_count": 41,
   "metadata": {},
   "outputs": [
    {
     "name": "stdout",
     "output_type": "stream",
     "text": [
      "Scenario 1: 256.3851901028101\n",
      "Scenario 2: 654.8936591853735\n",
      "Scenario 3: 512.6277874016221\n"
     ]
    }
   ],
   "source": [
    "run_experiment(10,250,250)"
   ]
  },
  {
   "cell_type": "code",
   "execution_count": 42,
   "metadata": {},
   "outputs": [
    {
     "name": "stdout",
     "output_type": "stream",
     "text": [
      "Scenario 1: 253.08491143942018\n",
      "Scenario 2: 264.0601952368298\n",
      "Scenario 3: 263.48843151687646\n"
     ]
    }
   ],
   "source": [
    "run_experiment(10,250,10)"
   ]
  },
  {
   "cell_type": "code",
   "execution_count": 6,
   "metadata": {},
   "outputs": [
    {
     "name": "stdout",
     "output_type": "stream",
     "text": [
      "Scenario 1: 206.34530198586262\n",
      "Scenario 2: 461.51410262722214\n",
      "Scenario 3: 384.3217362225981\n"
     ]
    }
   ],
   "source": [
    "run_experiment(10,200,200)"
   ]
  },
  {
   "cell_type": "code",
   "execution_count": 44,
   "metadata": {},
   "outputs": [
    {
     "name": "stdout",
     "output_type": "stream",
     "text": [
      "Scenario 1: 202.97129748186904\n",
      "Scenario 2: 214.4402361777946\n",
      "Scenario 3: 213.54007829907474\n"
     ]
    }
   ],
   "source": [
    "run_experiment(10,200,10)"
   ]
  },
  {
   "cell_type": "code",
   "execution_count": 45,
   "metadata": {},
   "outputs": [
    {
     "name": "stdout",
     "output_type": "stream",
     "text": [
      "Scenario 1: 244.4122518581273\n",
      "Scenario 2: 1249.1022180994278\n",
      "Scenario 3: 570.1881802364469\n"
     ]
    }
   ],
   "source": [
    "run_experiment(10000,250,250)"
   ]
  },
  {
   "cell_type": "code",
   "execution_count": 46,
   "metadata": {},
   "outputs": [
    {
     "name": "stdout",
     "output_type": "stream",
     "text": [
      "Scenario 1: 249.94795137782813\n",
      "Scenario 2: 284.9629076073302\n",
      "Scenario 3: 262.533884981898\n"
     ]
    }
   ],
   "source": [
    "run_experiment(10000,250,10)"
   ]
  },
  {
   "cell_type": "code",
   "execution_count": 47,
   "metadata": {},
   "outputs": [
    {
     "name": "stdout",
     "output_type": "stream",
     "text": [
      "Scenario 1: 200.7988611230898\n",
      "Scenario 2: 1032.9866951274398\n",
      "Scenario 3: 456.2555707320373\n"
     ]
    }
   ],
   "source": [
    "run_experiment(10000,200,200)"
   ]
  },
  {
   "cell_type": "code",
   "execution_count": 48,
   "metadata": {},
   "outputs": [
    {
     "name": "stdout",
     "output_type": "stream",
     "text": [
      "Scenario 1: 200.1605945657839\n",
      "Scenario 2: 240.72833158989488\n",
      "Scenario 3: 213.1762277376833\n"
     ]
    }
   ],
   "source": [
    "run_experiment(10000,200,10)"
   ]
  },
  {
   "cell_type": "code",
   "execution_count": null,
   "metadata": {
    "collapsed": true
   },
   "outputs": [],
   "source": []
  }
 ],
 "metadata": {
  "kernelspec": {
   "display_name": "Python 3",
   "language": "python",
   "name": "python3"
  },
  "language_info": {
   "codemirror_mode": {
    "name": "ipython",
    "version": 3
   },
   "file_extension": ".py",
   "mimetype": "text/x-python",
   "name": "python",
   "nbconvert_exporter": "python",
   "pygments_lexer": "ipython3",
   "version": "3.6.2"
  }
 },
 "nbformat": 4,
 "nbformat_minor": 2
}
